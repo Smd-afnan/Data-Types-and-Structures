{
  "cells": [
    {
      "cell_type": "markdown",
      "metadata": {
        "id": "xXQNbGLBJB9G"
      },
      "source": [
        "1. what are data structures and why are they  important?\n",
        "\n"
      ]
    },
    {
      "cell_type": "code",
      "execution_count": null,
      "metadata": {
        "id": "9qHPluqt91TO"
      },
      "outputs": [],
      "source": [
        "# ans.data structres are a type of containers used to organise and store the data,\n",
        "#     helps in solving problems faster, efficient\n",
        "#     different data structures 1.list\n",
        "#                               2.array\n",
        "#                               3.queue\n",
        "#                               4.stack\n",
        "#                               5.Tree\n",
        "#     they play an important role in storing and making it efficient and easy workflow for solving the prblms"
      ]
    },
    {
      "cell_type": "markdown",
      "metadata": {
        "id": "eaI9GGDUJQlu"
      },
      "source": [
        "2. Explain the difference between mutable and immutable data types with examples"
      ]
    },
    {
      "cell_type": "code",
      "execution_count": null,
      "metadata": {
        "colab": {
          "base_uri": "https://localhost:8080/"
        },
        "id": "kntfR1gMIHQG",
        "outputId": "fe8670a2-4727-490a-fd01-6934bf47f0a4"
      },
      "outputs": [
        {
          "name": "stdout",
          "output_type": "stream",
          "text": [
            "[1, 'afnan', 'wool', 'india', 69]\n",
            "(1, 'afnan', 'bool', 'india', 69)\n"
          ]
        }
      ],
      "source": [
        "# ans. mutuable data types are the one which allow editing or altering or change after it is created\n",
        "#      where as immutable data types are the one which doesnt allow any change after it is created\n",
        "\n",
        "#      list = mutuable\n",
        "list=[1,\"afnan\",\"bool\",\"india\",69]\n",
        "list[2]=\"wool\"\n",
        "print(list)\n",
        "\n",
        "# list = [1, 'afnan', 'wool', 'india', 69]-- result\n",
        "\n",
        "\n",
        "    #  tuple = immutable\n",
        "\n",
        "tuple=(1,\"afnan\",\"bool\",\"india\",69)\n",
        "# tuple[2]=\"wool\", since it immutable following line would give an error:\n",
        "print(tuple)"
      ]
    },
    {
      "cell_type": "markdown",
      "metadata": {
        "id": "mBz2Zee0LNo-"
      },
      "source": [
        "3. What are the main differences between lists and tuples in Python4"
      ]
    },
    {
      "cell_type": "code",
      "execution_count": null,
      "metadata": {
        "id": "3w6XyfwzKXX2"
      },
      "outputs": [],
      "source": [
        "# ans.Lists are mutable, meaning you can change them (add, remove, modify elements).\n",
        "#     Example: my_list = [1, 2, 3]\n",
        "#     Tuples are immutable, meaning once they are created, you can't modify them.\n",
        "#     Example: my_tuple = (1, 2, 3)\n",
        "#     Lists are usually more flexible, but tuples are faster and more secure if you don’t need to modify data."
      ]
    },
    {
      "cell_type": "markdown",
      "metadata": {
        "id": "ZCTUbZWALaI-"
      },
      "source": [
        "4. Describe how dictionaries store data"
      ]
    },
    {
      "cell_type": "code",
      "execution_count": null,
      "metadata": {
        "colab": {
          "base_uri": "https://localhost:8080/"
        },
        "id": "whrSIwgtLdBV",
        "outputId": "cb9aac37-9284-4550-ed44-2cb0359199e9"
      },
      "outputs": [
        {
          "name": "stdout",
          "output_type": "stream",
          "text": [
            "afnan\n"
          ]
        }
      ],
      "source": [
        "# ans.dictionaries store the data in the form of key : value pairs\n",
        "#     for every value there will be a unique key,\n",
        "\n",
        "dict = {\"name\":\"afnan\"}\n",
        "# here name is the key and afnan is the value\n",
        "print(dict[\"name\"])"
      ]
    },
    {
      "cell_type": "markdown",
      "metadata": {
        "id": "E145RACpdMSX"
      },
      "source": [
        " 5. Why might you use a set instead of a list in Python"
      ]
    },
    {
      "cell_type": "code",
      "execution_count": null,
      "metadata": {
        "id": "q7Ru2889L8oW"
      },
      "outputs": [],
      "source": [
        "#Ans  when the requirement is storing unique values, sets are used instead of list, bcz in sets\n",
        "# only unique item can be stored  and not any duplicate\n",
        "\n",
        "# whereas in lists u can have multiple duplicate values"
      ]
    },
    {
      "cell_type": "markdown",
      "metadata": {
        "id": "oXk3RyLBliBb"
      },
      "source": [
        "6. What is a string in Python, and how is it different from a list?"
      ]
    },
    {
      "cell_type": "code",
      "execution_count": null,
      "metadata": {
        "id": "paWINys5lXry"
      },
      "outputs": [],
      "source": [
        "# string is a sequence of characters, like\"afnan\" and it is different\n",
        "# from list because the list can store different types of data types"
      ]
    },
    {
      "cell_type": "markdown",
      "metadata": {
        "id": "JsYQBfbqnYQQ"
      },
      "source": []
    },
    {
      "cell_type": "markdown",
      "metadata": {
        "id": "rUXFI0fknYdc"
      },
      "source": [
        "7. How do tuples ensure data integrity in Python?"
      ]
    },
    {
      "cell_type": "code",
      "execution_count": null,
      "metadata": {
        "id": "hpXD-BklneAB"
      },
      "outputs": [],
      "source": [
        "# Ans. Tuples ensure data integrity because they are immutable, since they are immutable\n",
        "# there is no chance for it change, once created, cannot  be changed\n",
        "# thats how the integrity is ensured"
      ]
    },
    {
      "cell_type": "markdown",
      "metadata": {
        "id": "KaD2lW0AoIGg"
      },
      "source": [
        "8. What is a hash table, and how does it relate to dictionaries in Python?"
      ]
    },
    {
      "cell_type": "code",
      "execution_count": null,
      "metadata": {
        "id": "IlC-UdIzoGD8"
      },
      "outputs": [],
      "source": [
        "# A hash table is a data structure used to store data in key-value pairs, like a dictionary in Python.\n",
        "# Python dictionaries use hash tables to quickly look up the value associated with a key."
      ]
    },
    {
      "cell_type": "markdown",
      "metadata": {
        "id": "4603WQqWpdsO"
      },
      "source": [
        "9. Can lists contain different data types in Python?"
      ]
    },
    {
      "cell_type": "code",
      "execution_count": null,
      "metadata": {
        "id": "EnT6XqgapkZ3"
      },
      "outputs": [],
      "source": [
        "# ans. lists can contain different data types in python\n",
        "#      list = [1,\"afnan\",\"bool\",\"india\",69, True, 0.9]\n",
        "#      in this list it is containing an integer, string, boolean, string, float data types all\n",
        "#      in list"
      ]
    },
    {
      "cell_type": "markdown",
      "metadata": {
        "id": "wfVoalfoqBCO"
      },
      "source": [
        "10. Explain why strings are immutable in Python."
      ]
    },
    {
      "cell_type": "code",
      "execution_count": null,
      "metadata": {
        "id": "3T735-sAptRR"
      },
      "outputs": [],
      "source": [
        "# strings are immutable bcz they are desinged to be efficient\n",
        "# when we try to change the string, it creates a new one in python rathere than changing the old one\n",
        "# this helps in saving the memory and make it faster"
      ]
    },
    {
      "cell_type": "markdown",
      "metadata": {
        "id": "E9y1hqQZqeXo"
      },
      "source": [
        "11. What advantages do dictionaries offer over lists on certain task?"
      ]
    },
    {
      "cell_type": "code",
      "execution_count": null,
      "metadata": {
        "id": "bMiFTTx4qdOi"
      },
      "outputs": [],
      "source": [
        "# dictionaries are flexible, the way store the data is in key value pairs, that way it is more efficient\n",
        "# they are easy recall, we jst have to call the key to know the value whereas in lists u have to index\n",
        "# like lists dictionaries cannot have duplicate data\n",
        "# and they are easy to change, jst recall the key and change it"
      ]
    },
    {
      "cell_type": "markdown",
      "metadata": {
        "id": "ScaLzkGIsIkt"
      },
      "source": [
        "12.Describe a Scneraio where using a tuple would be preffered over list?"
      ]
    },
    {
      "cell_type": "code",
      "execution_count": null,
      "metadata": {
        "id": "4RESbgYEsTmN"
      },
      "outputs": [],
      "source": [
        "# tuples are preffered when the data integrity has to be mainted, like office staff information\n",
        "# it cannot be changed like there names, roles, salary packages etc etc\n",
        "\n",
        "# tuples are immutable, once created cannot be changed\n"
      ]
    },
    {
      "cell_type": "markdown",
      "metadata": {
        "id": "ho5TEzjissQU"
      },
      "source": [
        "13. How do sets handle duplicate values in Python?"
      ]
    },
    {
      "cell_type": "code",
      "execution_count": null,
      "metadata": {
        "id": "JI3xxCa9uKOh"
      },
      "outputs": [],
      "source": [
        "# set dont allow duplicate values, it automatically removes the duplicate values\n",
        "# even if we try to add a duplicate value, it jst ignores"
      ]
    },
    {
      "cell_type": "markdown",
      "metadata": {
        "id": "C75PwEJmulm6"
      },
      "source": [
        "14. How does the \"in\" keyword work differently for lists and dictionaries?"
      ]
    },
    {
      "cell_type": "code",
      "execution_count": null,
      "metadata": {
        "id": "dDwTya0OukbD"
      },
      "outputs": [],
      "source": [
        "# ans. the in keyword in list works to see if the item is there in the list or not\n",
        "#      whereas the in keyword in dictionary is to see whethere the key is there or not\n",
        "\n",
        "\n",
        "\n",
        "#      if 3 in [1, 2, 3]:\n",
        "#       it will return True\n",
        "\n",
        "\n",
        "#     where as in dictionary\n",
        "#     if name in {\"name\":\"afnan\"}:\n",
        "#       return True"
      ]
    },
    {
      "cell_type": "markdown",
      "metadata": {
        "id": "pTbFcXO162vd"
      },
      "source": [
        "15. Can you modify the elements of a tuple? Explain why or why not."
      ]
    },
    {
      "cell_type": "code",
      "execution_count": null,
      "metadata": {
        "id": "Ip_XXVecukRW"
      },
      "outputs": [],
      "source": [
        "# we cannot modify the tuple once created, they are immutable, meaning they cannot be\n",
        "# changed, it is designed to store the data that we dont want to accidently modify or delete"
      ]
    },
    {
      "cell_type": "markdown",
      "metadata": {
        "id": "L4RycQau7jb7"
      },
      "source": [
        "16. What is a nested dictionary, and give an example of its use case?"
      ]
    },
    {
      "cell_type": "code",
      "execution_count": null,
      "metadata": {
        "id": "tljf5PGQ7h2X"
      },
      "outputs": [],
      "source": [
        "# Ans. a nested dictionary is a dictionary within a dictionary,\n",
        "#      it is used to store more complex data\n",
        "\n",
        "# hospital={\"name\":\"Afnan\",skills:[\"data science with generative ai\",\"cardiac care technology\"]}"
      ]
    },
    {
      "cell_type": "markdown",
      "metadata": {
        "id": "dQZ6Mfyz87zk"
      },
      "source": [
        "17. Describe the time complexity of accessing elements in a dictionary."
      ]
    },
    {
      "cell_type": "code",
      "execution_count": null,
      "metadata": {
        "id": "VdajZeqc86cr"
      },
      "outputs": [],
      "source": [
        "# since the dictionaries works on hash table structure, it is very easy to access the\n",
        "# elements of the dictionary, we jst have to call the key and the value will be presented before us, how much\n",
        "# ever big it is"
      ]
    },
    {
      "cell_type": "markdown",
      "metadata": {
        "id": "WdH_tvHK9dU2"
      },
      "source": [
        "18. In what situations are lists preferred over dictionaries?"
      ]
    },
    {
      "cell_type": "code",
      "execution_count": null,
      "metadata": {
        "id": "HZE0NNLp9b-i"
      },
      "outputs": [],
      "source": [
        "# list is preferd more than dictionary in a situation where u need a ordered collection of items,\n",
        "# without a need of a key value pair\n",
        "# where u jst need to store the names of ur frnds based on whose first"
      ]
    },
    {
      "cell_type": "markdown",
      "metadata": {
        "id": "DUTLGvXS-W6F"
      },
      "source": [
        "19. Why are dictionaries considered unordered, and how does that affect data retrieval?"
      ]
    },
    {
      "cell_type": "code",
      "execution_count": null,
      "metadata": {
        "id": "74Je-0RH-TAp"
      },
      "outputs": [],
      "source": [
        "# since they dont have a specific order\n",
        "# dict = {\"name\":\"afnan\",\"age\":22,\"sex\":\"male\"}\n",
        "# in this there is no such order like \"name\" is first and \"age\" is second\n",
        "# this is because they use hashing which helps in retrieving the data faster"
      ]
    },
    {
      "cell_type": "markdown",
      "metadata": {
        "id": "m69MsszL_3-a"
      },
      "source": [
        "20. Explain the difference between a list and a dictionary in terms of data retrieval"
      ]
    },
    {
      "cell_type": "code",
      "execution_count": null,
      "metadata": {
        "id": "EAem7pHF-7sS"
      },
      "outputs": [],
      "source": [
        "# In a list, you retrieve items based on their position (index), like the 0th, 1st, or 2nd item.\n",
        "# In a dictionary, you retrieve values based on keys.\n",
        "# A key can be anything unique like a name or an ID, and the dictionary looks up the value associated with that key.\n",
        "\n",
        "\n",
        "\n",
        "# List: my_list[0] to get the first item.\n",
        "# Dictionary: my_dict['key'] to get the value for that key."
      ]
    },
    {
      "cell_type": "code",
      "execution_count": null,
      "metadata": {
        "id": "ofc-GYM6AEnN"
      },
      "outputs": [],
      "source": []
    },
    {
      "cell_type": "markdown",
      "metadata": {
        "id": "PracticalQuestions"
      },
      "source": [
        "Practical Questions"
      ]
    },
    {
      "cell_type": "code",
      "execution_count": 8,
      "metadata": {
        "id": "Practical1"
      },
      "outputs": [
        {
          "name": "stdout",
          "output_type": "stream",
          "text": [
            "afnan\n"
          ]
        }
      ],
      "source": [
        "# Write a code to create a string with your name and print it\n",
        "name = input(\"whats your name\")\n",
        "print(name)"
      ]
    },
    {
      "cell_type": "code",
      "execution_count": 7,
      "metadata": {
        "id": "Practical2"
      },
      "outputs": [
        {
          "name": "stdout",
          "output_type": "stream",
          "text": [
            "11\n"
          ]
        }
      ],
      "source": [
        "# Write a code to find the length of the string \"Hello World\"\n",
        "string =\"Hello World\"\n",
        "print(len(string))"
      ]
    },
    {
      "cell_type": "code",
      "execution_count": 9,
      "metadata": {
        "id": "Practical3"
      },
      "outputs": [
        {
          "data": {
            "text/plain": [
              "'Pyt'"
            ]
          },
          "execution_count": 9,
          "metadata": {},
          "output_type": "execute_result"
        }
      ],
      "source": [
        "# Write a code to slice the first 3 characters from the string \"Python Programming\"\n",
        "string = \"Python Programming\"\n",
        "string[0:3]"
      ]
    },
    {
      "cell_type": "code",
      "execution_count": 10,
      "metadata": {
        "id": "Practical4"
      },
      "outputs": [
        {
          "data": {
            "text/plain": [
              "'HELLO'"
            ]
          },
          "execution_count": 10,
          "metadata": {},
          "output_type": "execute_result"
        }
      ],
      "source": [
        "# Write a code to convert the string \"hello\" to uppercase\n",
        "string = \"hello\"\n",
        "string.upper()"
      ]
    },
    {
      "cell_type": "code",
      "execution_count": null,
      "metadata": {
        "id": "Practical5"
      },
      "outputs": [],
      "source": [
        "# Write a code to replace the word \"apple\" with \"orange\" in the string \"I like apple\"\n",
        "string = \"I like apple\"\n",
        "print(string.replace(\"apple\", \"orange\"))"
      ]
    },
    {
      "cell_type": "code",
      "execution_count": null,
      "metadata": {
        "id": "Practical6"
      },
      "outputs": [],
      "source": [
        "# Write a code to create a list with numbers 1 to 5 and print it\n",
        "numbers = [1, 2, 3, 4, 5]\n",
        "print(numbers)"
      ]
    },
    {
      "cell_type": "code",
      "execution_count": null,
      "metadata": {
        "id": "Practical7"
      },
      "outputs": [],
      "source": [
        "# Write a code to append the number 10 to the list [1, 2, 3, 4]\n"
      ]
    },
    {
      "cell_type": "code",
      "execution_count": null,
      "metadata": {
        "id": "Practical8"
      },
      "outputs": [],
      "source": [
        "# Write a code to remove the number 3 from the list [1, 2, 3, 4, 5]\n",
        "numbers = [1, 2, 3, 4, 5]\n",
        "numbers.remove(3)\n",
        "print(numbers)"
      ]
    },
    {
      "cell_type": "code",
      "execution_count": null,
      "metadata": {
        "id": "Practical9"
      },
      "outputs": [],
      "source": [
        "# Write a code to access the second element in the list ['a', 'b', 'c', 'd']\n",
        "letters = ['a', 'b', 'c', 'd']\n",
        "print(letters[1])"
      ]
    },
    {
      "cell_type": "code",
      "execution_count": null,
      "metadata": {
        "id": "Practical10"
      },
      "outputs": [],
      "source": [
        "# Write a code to reverse the list [10, 20, 30, 40, 50]\n",
        "numbers = [10, 20, 30, 40, 50]\n",
        "numbers.reverse()\n",
        "print(numbers)"
      ]
    },
    {
      "cell_type": "code",
      "execution_count": null,
      "metadata": {
        "id": "Practical11"
      },
      "outputs": [],
      "source": [
        "# Write a code to create a tuple with the elements 10, 20, 30 and print it\n",
        "tuple1 = (10, 20, 30)\n",
        "print(tuple1)"
      ]
    },
    {
      "cell_type": "code",
      "execution_count": null,
      "metadata": {
        "id": "Practical12"
      },
      "outputs": [],
      "source": [
        "# Write a code to access the first element of the tuple ('apple', 'banana', 'cherry')\n",
        "tuple2 = ('apple', 'banana', 'cherry')\n",
        "print(tuple2[0])"
      ]
    },
    {
      "cell_type": "code",
      "execution_count": null,
      "metadata": {
        "id": "Practical13"
      },
      "outputs": [],
      "source": [
        "# Write a code to count how many times the number 2 appears in the tuple (1, 2, 3, 2, 4, 2)\n",
        "tuple3 = (1, 2, 3, 2, 4, 2)\n",
        "print(tuple3.count(2))"
      ]
    },
    {
      "cell_type": "code",
      "execution_count": null,
      "metadata": {
        "id": "Practical14"
      },
      "outputs": [],
      "source": [
        "# Write a code to find the index of the element \"cat\" in the tuple ('dog', 'cat', 'rabbit')\n",
        "tuple4 = ('dog', 'cat', 'rabbit')\n",
        "print(tuple4.index('cat'))"
      ]
    },
    {
      "cell_type": "code",
      "execution_count": null,
      "metadata": {
        "id": "Practical15"
      },
      "outputs": [],
      "source": [
        "# Write a code to check if the element \"banana\" is in the tuple ('apple', 'orange', 'banana')\n",
        "tuple5 = ('apple', 'orange', 'banana')\n",
        "print('banana' in tuple5)"
      ]
    },
    {
      "cell_type": "code",
      "execution_count": null,
      "metadata": {
        "id": "Practical16"
      },
      "outputs": [],
      "source": [
        "# Write a code to create a set with the elements 1, 2, 3, 4, 5 and print it\n",
        "set1 = {1, 2, 3, 4, 5}\n",
        "print(set1)"
      ]
    },
    {
      "cell_type": "code",
      "execution_count": null,
      "metadata": {
        "id": "Practical17"
      },
      "outputs": [],
      "source": [
        "# Write a code to add the element 6 to the set {1, 2, 3, 4}\n",
        "set2 = {1, 2, 3, 4}\n",
        "set2.add(6)\n",
        "print(set2)"
      ]
    }
  ],
  "metadata": {
    "colab": {
      "provenance": []
    },
    "kernelspec": {
      "display_name": "Python 3",
      "name": "python3"
    },
    "language_info": {
      "codemirror_mode": {
        "name": "ipython",
        "version": 3
      },
      "file_extension": ".py",
      "mimetype": "text/x-python",
      "name": "python",
      "nbconvert_exporter": "python",
      "pygments_lexer": "ipython3",
      "version": "3.13.0"
    }
  },
  "nbformat": 4,
  "nbformat_minor": 0
}
